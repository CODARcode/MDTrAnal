{
 "cells": [
  {
   "cell_type": "markdown",
   "metadata": {
    "colab_type": "text",
    "id": "view-in-github"
   },
   "source": [
    "<a href=\"https://colab.research.google.com/github/rahmanole/MDTrAnal/blob/master/KCUSUM.ipynb\" target=\"_parent\"><img src=\"https://colab.research.google.com/assets/colab-badge.svg\" alt=\"Open In Colab\"/></a>"
   ]
  },
  {
   "cell_type": "code",
   "execution_count": 54,
   "metadata": {
    "id": "9lJ6AXtCDf_E"
   },
   "outputs": [],
   "source": [
    "import numpy as np\n",
    "from sklearn import metrics\n",
    "import math\n",
    "import matplotlib.pyplot as plt\n",
    "import seaborn as sb\n",
    "sb.set()\n",
    "import os\n",
    "import sys\n",
    "#from codar.oas.MDTrSampler import MDTrSampler, svd_wrapper\n",
    "import parmed\n",
    "import pandas as pd\n",
    "from sklearn.metrics.pairwise import cosine_similarity\n",
    "from scipy import sparse\n",
    "from sklearn.utils.extmath import svd_flip, randomized_svd\n",
    "import scipy.io\n",
    "from scipy.sparse.linalg import svds\n",
    "import scipy.ndimage as ndi\n",
    "from heapq import heappush, heappop\n",
    "from pprint import pprint\n",
    "from random import uniform\n"
   ]
  },
  {
   "cell_type": "code",
   "execution_count": 3,
   "metadata": {
    "id": "C-HP3RU_kBP5"
   },
   "outputs": [
    {
     "data": {
      "text/plain": [
       "array([ 1.26579623, -0.11912135,  0.57661905, ..., 44.43915245,\n",
       "       45.35094781, 43.48856053])"
      ]
     },
     "execution_count": 3,
     "metadata": {},
     "output_type": "execute_result"
    }
   ],
   "source": [
    "sample_x_0 = np.random.normal(0,1,size=2000)\n",
    "sample_x_1 = np.random.normal(0,1,size=2000)\n",
    "\n",
    "\n",
    "sample_y_0 = np.random.normal(0,2,size=2000)\n",
    "sample_y_1 = np.random.normal(0,2,size=2000)\n",
    "\n",
    "\n",
    "sample_z_0 = np.random.normal(0,2,size=2000)\n",
    "sample_z_1 = np.random.normal(0,2,size=2000)\n",
    "\n",
    "\n",
    "sample_x = np.cumsum(sample_x_0)\n",
    "sample_y = np.cumsum(sample_y_0)\n",
    "sample_z = np.cumsum(sample_z_0)\n",
    "\n",
    "sample_x"
   ]
  },
  {
   "cell_type": "code",
   "execution_count": 4,
   "metadata": {},
   "outputs": [
    {
     "name": "stderr",
     "output_type": "stream",
     "text": [
      "<>:2: SyntaxWarning: \"is\" with a literal. Did you mean \"==\"?\n",
      "<>:7: SyntaxWarning: \"is\" with a literal. Did you mean \"==\"?\n",
      "<>:2: SyntaxWarning: \"is\" with a literal. Did you mean \"==\"?\n",
      "<>:7: SyntaxWarning: \"is\" with a literal. Did you mean \"==\"?\n",
      "<ipython-input-4-f8bad8835ad6>:2: SyntaxWarning: \"is\" with a literal. Did you mean \"==\"?\n",
      "  if method is 'svds':\n",
      "<ipython-input-4-f8bad8835ad6>:7: SyntaxWarning: \"is\" with a literal. Did you mean \"==\"?\n",
      "  elif method is 'random':\n"
     ]
    }
   ],
   "source": [
    "def svd_wrapper(Y, k, method='svds'):\n",
    "    if method is 'svds':\n",
    "        Ut, St, Vt = svds(Y, k)\n",
    "        idx = np.argsort(St)[::-1]        \n",
    "        St = St[idx] # have issue with sorting zero singular values\n",
    "        Ut, Vt = svd_flip(Ut[:, idx], Vt[idx])\n",
    "    elif method is 'random':\n",
    "        Ut, St, Vt = randomized_svd(Y, k)\n",
    "    else:\n",
    "        Ut, St, Vt = np.linalg.svd(Y, full_matrices=False)\n",
    "        # now truncate it to k\n",
    "        Ut = Ut[:, :k]\n",
    "        St = np.diag(St[:k])\n",
    "        Vt = Vt[:k, :]\n",
    "        \n",
    "    return Ut, St, Vt"
   ]
  },
  {
   "cell_type": "code",
   "execution_count": 17,
   "metadata": {},
   "outputs": [
    {
     "data": {
      "text/plain": [
       "array([ 1.26579623, -1.38491758,  0.6957404 , ..., -0.72383753,\n",
       "        0.91179537, -1.86238728])"
      ]
     },
     "execution_count": 17,
     "metadata": {},
     "output_type": "execute_result"
    }
   ],
   "source": [
    "trace_1 = np.array([sample_x_0, sample_y_0*sample_z_0])"
   ]
  },
  {
   "cell_type": "code",
   "execution_count": 34,
   "metadata": {},
   "outputs": [
    {
     "data": {
      "text/plain": [
       "[2000, 2000]"
      ]
     },
     "execution_count": 34,
     "metadata": {},
     "output_type": "execute_result"
    }
   ],
   "source": [
    "trace_2 = np.array([sample_x_1, sample_y_1*sample_z_1])\n",
    "[len(a) for a in trace_2]"
   ]
  },
  {
   "cell_type": "code",
   "execution_count": 37,
   "metadata": {},
   "outputs": [
    {
     "data": {
      "text/plain": [
       "array([[[-38.588509,  31.486088, 124.245422],\n",
       "        [-38.904312,  32.39389 , 124.620537],\n",
       "        [-38.182739,  31.671265, 123.36467 ],\n",
       "        ...,\n",
       "        [ 11.096417,  24.958757, 137.562073],\n",
       "        [ 12.030968,  24.631891, 137.536453],\n",
       "        [ 10.993629,  24.990107, 138.5569  ]],\n",
       "\n",
       "       [[-38.581264,  31.483677, 124.246391],\n",
       "        [-38.900215,  32.395161, 124.610184],\n",
       "        [-38.200001,  31.667702, 123.353279],\n",
       "        ...,\n",
       "        [ 11.097125,  24.960527, 137.564529],\n",
       "        [ 12.027571,  24.618774, 137.568039],\n",
       "        [ 10.978704,  25.003279, 138.555832]],\n",
       "\n",
       "       [[-38.575676,  31.481556, 124.247566],\n",
       "        [-38.890774,  32.389526, 124.600639],\n",
       "        [-38.210121,  31.663651, 123.336502],\n",
       "        ...,\n",
       "        [ 11.097929,  24.96217 , 137.56723 ],\n",
       "        [ 12.024109,  24.605516, 137.596664],\n",
       "        [ 10.961408,  25.017021, 138.551788]],\n",
       "\n",
       "       ...,\n",
       "\n",
       "       [[-37.960289,  31.775253, 125.563232],\n",
       "        [-38.260132,  32.152901, 126.456978],\n",
       "        [-37.599461,  32.558544, 124.976921],\n",
       "        ...,\n",
       "        [ 10.908325,  25.32478 , 137.712784],\n",
       "        [ 10.858029,  24.936256, 138.628098],\n",
       "        [ 10.153194,  25.984735, 137.847198]],\n",
       "\n",
       "       [[-37.956963,  31.771517, 125.57341 ],\n",
       "        [-38.259804,  32.173954, 126.481369],\n",
       "        [-37.581364,  32.533028, 124.994865],\n",
       "        ...,\n",
       "        [ 10.910765,  25.325432, 137.716141],\n",
       "        [ 10.825489,  24.952229, 138.615753],\n",
       "        [ 10.15202 ,  25.991091, 137.79834 ]],\n",
       "\n",
       "       [[-37.954533,  31.768862, 125.583534],\n",
       "        [-38.256752,  32.191162, 126.495773],\n",
       "        [-37.56868 ,  32.502411, 125.015846],\n",
       "        ...,\n",
       "        [ 10.912575,  25.326662, 137.719513],\n",
       "        [ 10.795266,  24.961622, 138.611526],\n",
       "        [ 10.156665,  25.994097, 137.743195]]])"
      ]
     },
     "execution_count": 37,
     "metadata": {},
     "output_type": "execute_result"
    }
   ],
   "source": [
    "mat= scipy.io.loadmat('collision_0-256.mat')\n",
    "coll = mat['trace']\n",
    "coll"
   ]
  },
  {
   "cell_type": "code",
   "execution_count": 39,
   "metadata": {},
   "outputs": [],
   "source": [
    "#coll.shape\n",
    "(x,y,z) = coll.shape"
   ]
  },
  {
   "cell_type": "code",
   "execution_count": 40,
   "metadata": {},
   "outputs": [
    {
     "data": {
      "text/plain": [
       "(255, 9033, 3)"
      ]
     },
     "execution_count": 40,
     "metadata": {},
     "output_type": "execute_result"
    }
   ],
   "source": [
    "coll.shape"
   ]
  },
  {
   "cell_type": "code",
   "execution_count": 41,
   "metadata": {},
   "outputs": [
    {
     "data": {
      "text/plain": [
       "array([[-38.588509,  31.486088, 124.245422, ...,  10.993629,  24.990107,\n",
       "        138.5569  ],\n",
       "       [-38.581264,  31.483677, 124.246391, ...,  10.978704,  25.003279,\n",
       "        138.555832],\n",
       "       [-38.575676,  31.481556, 124.247566, ...,  10.961408,  25.017021,\n",
       "        138.551788],\n",
       "       ...,\n",
       "       [-37.960289,  31.775253, 125.563232, ...,  10.153194,  25.984735,\n",
       "        137.847198],\n",
       "       [-37.956963,  31.771517, 125.57341 , ...,  10.15202 ,  25.991091,\n",
       "        137.79834 ],\n",
       "       [-37.954533,  31.768862, 125.583534, ...,  10.156665,  25.994097,\n",
       "        137.743195]])"
      ]
     },
     "execution_count": 41,
     "metadata": {},
     "output_type": "execute_result"
    }
   ],
   "source": [
    "t2 = coll.reshape((x, y*z),order='C')\n",
    "t2"
   ]
  },
  {
   "cell_type": "code",
   "execution_count": 42,
   "metadata": {},
   "outputs": [
    {
     "data": {
      "text/plain": [
       "array([[ 0.06262202, -0.07996474],\n",
       "       [ 0.062622  , -0.07999833],\n",
       "       [ 0.06262199, -0.0800133 ],\n",
       "       [ 0.06262198, -0.08000829],\n",
       "       [ 0.06262198, -0.07998522],\n",
       "       [ 0.06262199, -0.07994068],\n",
       "       [ 0.062622  , -0.07987249],\n",
       "       [ 0.06262202, -0.07978315],\n",
       "       [ 0.06262204, -0.07967896],\n",
       "       [ 0.06262207, -0.07956161],\n",
       "       [ 0.0626221 , -0.07943522],\n",
       "       [ 0.06262213, -0.07929855],\n",
       "       [ 0.06262215, -0.07915119],\n",
       "       [ 0.06262218, -0.07899272],\n",
       "       [ 0.06262219, -0.07882493],\n",
       "       [ 0.06262219, -0.07865008],\n",
       "       [ 0.06262218, -0.07846716],\n",
       "       [ 0.06262217, -0.07828069],\n",
       "       [ 0.06262215, -0.07809331],\n",
       "       [ 0.06262212, -0.07790836],\n",
       "       [ 0.0626221 , -0.07772388],\n",
       "       [ 0.06262208, -0.07753147],\n",
       "       [ 0.06262206, -0.07732281],\n",
       "       [ 0.06262204, -0.07710111],\n",
       "       [ 0.06262203, -0.07686733],\n",
       "       [ 0.06262202, -0.07661735],\n",
       "       [ 0.06262201, -0.07635057],\n",
       "       [ 0.062622  , -0.07606798],\n",
       "       [ 0.062622  , -0.07577469],\n",
       "       [ 0.06262201, -0.07547661],\n",
       "       [ 0.06262202, -0.07517033],\n",
       "       [ 0.06262204, -0.07485708],\n",
       "       [ 0.06262207, -0.07453176],\n",
       "       [ 0.06262211, -0.07419466],\n",
       "       [ 0.06262213, -0.07384611],\n",
       "       [ 0.06262215, -0.07348926],\n",
       "       [ 0.06262215, -0.07312269],\n",
       "       [ 0.06262215, -0.07274709],\n",
       "       [ 0.06262213, -0.07236158],\n",
       "       [ 0.06262209, -0.07196982],\n",
       "       [ 0.06262206, -0.07158163],\n",
       "       [ 0.06262203, -0.0712007 ],\n",
       "       [ 0.062622  , -0.07082165],\n",
       "       [ 0.06262199, -0.07043826],\n",
       "       [ 0.06262199, -0.07005189],\n",
       "       [ 0.062622  , -0.06965891],\n",
       "       [ 0.06262201, -0.06925575],\n",
       "       [ 0.06262202, -0.06883358],\n",
       "       [ 0.06262204, -0.06839294],\n",
       "       [ 0.06262205, -0.06793774],\n",
       "       [ 0.06262205, -0.06747392],\n",
       "       [ 0.06262206, -0.06700209],\n",
       "       [ 0.06262208, -0.06652323],\n",
       "       [ 0.0626221 , -0.06603461],\n",
       "       [ 0.06262213, -0.06553636],\n",
       "       [ 0.06262215, -0.06502804],\n",
       "       [ 0.06262218, -0.06451281],\n",
       "       [ 0.06262219, -0.06398744],\n",
       "       [ 0.06262218, -0.06345129],\n",
       "       [ 0.06262216, -0.06290216],\n",
       "       [ 0.06262211, -0.06234518],\n",
       "       [ 0.06262205, -0.0617814 ],\n",
       "       [ 0.06262199, -0.06121358],\n",
       "       [ 0.06262193, -0.06063672],\n",
       "       [ 0.06262188, -0.06004934],\n",
       "       [ 0.06262185, -0.05945725],\n",
       "       [ 0.06262184, -0.05886189],\n",
       "       [ 0.06262184, -0.05826225],\n",
       "       [ 0.06262185, -0.05765319],\n",
       "       [ 0.06262187, -0.05702983],\n",
       "       [ 0.06262188, -0.05638914],\n",
       "       [ 0.06262189, -0.0557333 ],\n",
       "       [ 0.06262191, -0.05506501],\n",
       "       [ 0.06262192, -0.05438498],\n",
       "       [ 0.06262195, -0.05369387],\n",
       "       [ 0.06262198, -0.05299691],\n",
       "       [ 0.06262203, -0.05229795],\n",
       "       [ 0.06262208, -0.05160032],\n",
       "       [ 0.06262214, -0.05089988],\n",
       "       [ 0.06262218, -0.05018934],\n",
       "       [ 0.0626222 , -0.04946416],\n",
       "       [ 0.06262219, -0.04872557],\n",
       "       [ 0.06262216, -0.04797772],\n",
       "       [ 0.06262211, -0.04722094],\n",
       "       [ 0.06262205, -0.04645835],\n",
       "       [ 0.06262199, -0.04568984],\n",
       "       [ 0.06262194, -0.04491841],\n",
       "       [ 0.0626219 , -0.04414752],\n",
       "       [ 0.06262188, -0.04337881],\n",
       "       [ 0.06262187, -0.04260775],\n",
       "       [ 0.06262188, -0.04183241],\n",
       "       [ 0.06262189, -0.04104889],\n",
       "       [ 0.06262189, -0.04025629],\n",
       "       [ 0.0626219 , -0.03945656],\n",
       "       [ 0.0626219 , -0.03865011],\n",
       "       [ 0.06262192, -0.03783548],\n",
       "       [ 0.06262195, -0.03701494],\n",
       "       [ 0.06262201, -0.03619314],\n",
       "       [ 0.06262208, -0.03537252],\n",
       "       [ 0.06262216, -0.03455671],\n",
       "       [ 0.06262223, -0.03374047],\n",
       "       [ 0.06262229, -0.03291818],\n",
       "       [ 0.06262233, -0.03208508],\n",
       "       [ 0.06262235, -0.03123915],\n",
       "       [ 0.06262235, -0.03038186],\n",
       "       [ 0.06262235, -0.02951301],\n",
       "       [ 0.06262234, -0.02863716],\n",
       "       [ 0.06262234, -0.0277594 ],\n",
       "       [ 0.06262236, -0.02688685],\n",
       "       [ 0.06262239, -0.02602445],\n",
       "       [ 0.06262243, -0.02516937],\n",
       "       [ 0.06262246, -0.02431612],\n",
       "       [ 0.0626225 , -0.02345658],\n",
       "       [ 0.06262253, -0.02258469],\n",
       "       [ 0.06262255, -0.02169905],\n",
       "       [ 0.06262257, -0.0207977 ],\n",
       "       [ 0.06262259, -0.01988165],\n",
       "       [ 0.06262261, -0.01895552],\n",
       "       [ 0.06262264, -0.01802927],\n",
       "       [ 0.06262267, -0.01710575],\n",
       "       [ 0.06262269, -0.01618625],\n",
       "       [ 0.06262271, -0.01526844],\n",
       "       [ 0.06262271, -0.01434436],\n",
       "       [ 0.06262269, -0.01340844],\n",
       "       [ 0.06262266, -0.01245225],\n",
       "       [ 0.06262261, -0.01147414],\n",
       "       [ 0.06262255, -0.01047494],\n",
       "       [ 0.06262249, -0.00946324],\n",
       "       [ 0.06262242, -0.00844541],\n",
       "       [ 0.06262236, -0.00742647],\n",
       "       [ 0.0626223 , -0.00640794],\n",
       "       [ 0.06262225, -0.00539113],\n",
       "       [ 0.06262221, -0.00437349],\n",
       "       [ 0.06262219, -0.00335206],\n",
       "       [ 0.06262218, -0.00232735],\n",
       "       [ 0.06262218, -0.00129726],\n",
       "       [ 0.06262218, -0.00026408],\n",
       "       [ 0.06262219,  0.00076691],\n",
       "       [ 0.0626222 ,  0.00179083],\n",
       "       [ 0.06262221,  0.00280572],\n",
       "       [ 0.06262223,  0.00381194],\n",
       "       [ 0.06262226,  0.00481162],\n",
       "       [ 0.0626223 ,  0.00580965],\n",
       "       [ 0.06262236,  0.00680693],\n",
       "       [ 0.06262242,  0.00780534],\n",
       "       [ 0.06262248,  0.00880523],\n",
       "       [ 0.06262253,  0.00980863],\n",
       "       [ 0.06262256,  0.0108156 ],\n",
       "       [ 0.06262257,  0.01182602],\n",
       "       [ 0.06262257,  0.01283922],\n",
       "       [ 0.06262255,  0.01385515],\n",
       "       [ 0.06262253,  0.01487484],\n",
       "       [ 0.06262251,  0.01590045],\n",
       "       [ 0.06262249,  0.01693084],\n",
       "       [ 0.06262247,  0.01796019],\n",
       "       [ 0.06262245,  0.01898703],\n",
       "       [ 0.06262242,  0.02001268],\n",
       "       [ 0.06262239,  0.02104405],\n",
       "       [ 0.06262236,  0.02208541],\n",
       "       [ 0.06262232,  0.02313425],\n",
       "       [ 0.06262229,  0.02418852],\n",
       "       [ 0.06262226,  0.02524901],\n",
       "       [ 0.06262223,  0.02631563],\n",
       "       [ 0.06262222,  0.02738915],\n",
       "       [ 0.06262221,  0.0284619 ],\n",
       "       [ 0.06262221,  0.02953036],\n",
       "       [ 0.06262221,  0.03059952],\n",
       "       [ 0.06262222,  0.03167485],\n",
       "       [ 0.06262223,  0.03276042],\n",
       "       [ 0.06262223,  0.03385015],\n",
       "       [ 0.06262223,  0.03494012],\n",
       "       [ 0.06262223,  0.03602432],\n",
       "       [ 0.06262224,  0.03710171],\n",
       "       [ 0.06262226,  0.03817639],\n",
       "       [ 0.06262229,  0.03924635],\n",
       "       [ 0.06262233,  0.04031154],\n",
       "       [ 0.06262238,  0.04137135],\n",
       "       [ 0.06262244,  0.04242733],\n",
       "       [ 0.0626225 ,  0.04348386],\n",
       "       [ 0.06262255,  0.04454018],\n",
       "       [ 0.06262259,  0.04559517],\n",
       "       [ 0.06262261,  0.04664638],\n",
       "       [ 0.06262262,  0.04769807],\n",
       "       [ 0.06262262,  0.04875305],\n",
       "       [ 0.06262262,  0.04981657],\n",
       "       [ 0.06262263,  0.05088723],\n",
       "       [ 0.06262265,  0.05195747],\n",
       "       [ 0.06262269,  0.05302364],\n",
       "       [ 0.06262271,  0.05408516],\n",
       "       [ 0.06262274,  0.05514427],\n",
       "       [ 0.06262275,  0.05619996],\n",
       "       [ 0.06262274,  0.05725186],\n",
       "       [ 0.06262274,  0.05830156],\n",
       "       [ 0.06262273,  0.05935289],\n",
       "       [ 0.06262274,  0.06040605],\n",
       "       [ 0.06262277,  0.06145714],\n",
       "       [ 0.06262281,  0.06249514],\n",
       "       [ 0.06262287,  0.06351086],\n",
       "       [ 0.06262292,  0.064505  ],\n",
       "       [ 0.06262297,  0.0654811 ],\n",
       "       [ 0.062623  ,  0.0664528 ],\n",
       "       [ 0.06262302,  0.06742834],\n",
       "       [ 0.06262303,  0.06841194],\n",
       "       [ 0.06262302,  0.06940413],\n",
       "       [ 0.06262302,  0.07040091],\n",
       "       [ 0.06262301,  0.07140057],\n",
       "       [ 0.06262301,  0.07238986],\n",
       "       [ 0.062623  ,  0.07336092],\n",
       "       [ 0.06262299,  0.07431084],\n",
       "       [ 0.06262298,  0.07524965],\n",
       "       [ 0.06262296,  0.07619054],\n",
       "       [ 0.06262294,  0.07714543],\n",
       "       [ 0.06262292,  0.07811313],\n",
       "       [ 0.06262291,  0.07908058],\n",
       "       [ 0.06262291,  0.08004489],\n",
       "       [ 0.06262293,  0.08099603],\n",
       "       [ 0.06262296,  0.0819307 ],\n",
       "       [ 0.062623  ,  0.08284651],\n",
       "       [ 0.06262304,  0.08374267],\n",
       "       [ 0.06262307,  0.0846266 ],\n",
       "       [ 0.06262311,  0.08550964],\n",
       "       [ 0.06262314,  0.08639901],\n",
       "       [ 0.06262317,  0.08729617],\n",
       "       [ 0.06262319,  0.08819439],\n",
       "       [ 0.0626232 ,  0.08908127],\n",
       "       [ 0.06262322,  0.08994673],\n",
       "       [ 0.06262323,  0.09079185],\n",
       "       [ 0.06262323,  0.09162127],\n",
       "       [ 0.06262322,  0.09243631],\n",
       "       [ 0.06262319,  0.09324116],\n",
       "       [ 0.06262315,  0.09404141],\n",
       "       [ 0.0626231 ,  0.09484603],\n",
       "       [ 0.06262305,  0.09565159],\n",
       "       [ 0.06262302,  0.09645862],\n",
       "       [ 0.062623  ,  0.09726117],\n",
       "       [ 0.062623  ,  0.09805696],\n",
       "       [ 0.06262301,  0.09884583],\n",
       "       [ 0.06262303,  0.09962958],\n",
       "       [ 0.06262305,  0.1004103 ],\n",
       "       [ 0.06262307,  0.10119236],\n",
       "       [ 0.06262309,  0.10197537],\n",
       "       [ 0.06262312,  0.1027566 ],\n",
       "       [ 0.06262314,  0.10353633],\n",
       "       [ 0.06262318,  0.10431226],\n",
       "       [ 0.06262322,  0.10508007],\n",
       "       [ 0.06262326,  0.10583758],\n",
       "       [ 0.06262329,  0.10658736],\n",
       "       [ 0.0626233 ,  0.10732874],\n",
       "       [ 0.0626233 ,  0.10806154],\n",
       "       [ 0.06262328,  0.10878284],\n",
       "       [ 0.06262324,  0.10949103],\n",
       "       [ 0.06262319,  0.11018273],\n",
       "       [ 0.06262314,  0.1108618 ],\n",
       "       [ 0.0626231 ,  0.11152793],\n",
       "       [ 0.06262307,  0.11218657]])"
      ]
     },
     "execution_count": 42,
     "metadata": {},
     "output_type": "execute_result"
    }
   ],
   "source": [
    "Utl, Stl, VTtl = svd_wrapper(t2, 2, method='random')\n",
    "Utl"
   ]
  },
  {
   "cell_type": "code",
   "execution_count": 43,
   "metadata": {},
   "outputs": [
    {
     "data": {
      "text/plain": [
       "array([263933.34629611,    409.13272312])"
      ]
     },
     "execution_count": 43,
     "metadata": {},
     "output_type": "execute_result"
    }
   ],
   "source": [
    "Stl"
   ]
  },
  {
   "cell_type": "code",
   "execution_count": 44,
   "metadata": {},
   "outputs": [
    {
     "data": {
      "text/plain": [
       "array([[-0.00232241,  0.00191566,  0.00753887, ...,  0.00065721,\n",
       "         0.00152268,  0.00833807],\n",
       "       [ 0.00628882,  0.00426916,  0.01536466, ...,  0.00577196,\n",
       "         0.00310528,  0.00884209]])"
      ]
     },
     "execution_count": 44,
     "metadata": {},
     "output_type": "execute_result"
    }
   ],
   "source": [
    "VTtl"
   ]
  },
  {
   "cell_type": "code",
   "execution_count": 45,
   "metadata": {},
   "outputs": [
    {
     "data": {
      "text/plain": [
       "(255, 2)"
      ]
     },
     "execution_count": 45,
     "metadata": {},
     "output_type": "execute_result"
    }
   ],
   "source": [
    "Utl.shape"
   ]
  },
  {
   "cell_type": "code",
   "execution_count": 60,
   "metadata": {},
   "outputs": [],
   "source": [
    "c = Utl\n",
    "s = Stl\n",
    "\n",
    "step = 25\n",
    "n_dim = 2"
   ]
  },
  {
   "cell_type": "code",
   "execution_count": 51,
   "metadata": {},
   "outputs": [
    {
     "data": {
      "image/png": "[encoded data removed]",
      "text/plain": [
       "<Figure size 640x480 with 1 Axes>"
      ]
     },
     "metadata": {},
     "output_type": "display_data"
    }
   ],
   "source": [
    "fig, ax = plt.subplots()\n",
    "ax.scatter(c[:,0],c[:,1], marker=\".\", c='b', s=0.5)\n",
    "ax.set_xlim(min(c[:,0]), max(c[:,0]))\n",
    "ax.set_ylim(min(c[:,1]), max(c[:,1]))\n",
    "for i in range(0,x,step):\n",
    "    ax.annotate(str(i),(c[i,0],c[i,1]))\n",
    "plt.show()"
   ]
  },
  {
   "cell_type": "code",
   "execution_count": 56,
   "metadata": {},
   "outputs": [],
   "source": [
    "class WeightedReservoirSampler:\n",
    "    def __init__(self, reservoir_size):\n",
    "        self.m = reservoir_size\n",
    "\n",
    "        self.reservoir = []\n",
    "        \n",
    "    def add(self, weight, data):\n",
    "        rw = uniform(0.0,1.0)**(1.0/weight)\n",
    "        if(len(self.reservoir)< self.m):\n",
    "            heappush(self.reservoir, (rw,data))\n",
    "        elif rw > self.reservoir[0][0]:\n",
    "            heappop(self.reservoir)\n",
    "            heappush(self.reservoir, (rw,data))\n",
    "        #print(len(self.reservoir))"
   ]
  },
  {
   "cell_type": "code",
   "execution_count": 62,
   "metadata": {},
   "outputs": [],
   "source": [
    "class MDTrSampler:\n",
    "    def __init__(self, n_atoms, n_dim = 2, conv_size = 50, n_samples=1000, batch_size=100, manifold_size=64):\n",
    "        self.n_dim = n_dim\n",
    "        self.conv_size = conv_size\n",
    "        self.n_atoms = n_atoms\n",
    "        self.batch_size = batch_size\n",
    "        self.l = manifold_size\n",
    "        self.n_samples = n_samples\n",
    "        self.bq = np.zeros((batch_size,n_atoms,3)) # batch queue\n",
    "        self.total_samples = 0\n",
    "        self.bq_index = 0\n",
    "        self.Btp = np.zeros((n_atoms*3,self.l))\n",
    "        self.strm_smplr = WeightedReservoirSampler(n_samples)\n",
    "        self.last_Vt = None\n",
    "    \n",
    "    def traj_char(self, c, s):\n",
    "        x = c.shape[0]\n",
    "        # scaled data <-- not so much meaningful as we're doing l2 normalization later\n",
    "        ps = np.mat(c[:,:self.n_dim]) * np.mat(np.diag(s[:self.n_dim]))\n",
    "        # gradient or changes of each data point\n",
    "        psd = ps[0:(x-1),:self.n_dim] - ps[1:x, :self.n_dim];\n",
    "        \n",
    "        # convoluted gradient --> smoothed gradient\n",
    "        psdm = ndi.convolve(psd, np.ones((self.conv_size,2))/self.conv_size*2);\n",
    "        # L2 normalized smoothed gradients --> now we focus on the angle of gradient only as atoms may move different speed \n",
    "        npsdm = np.divide(psdm, np.mat(np.sum(np.abs(psdm)**2,axis=-1)**(1./2)).T  * np.mat(np.ones((1,n_dim))))\n",
    "        # Angle smoothing with the assumption that the overall angle can not be radically changed\n",
    "        nmpsdm = ndi.convolve(npsdm, np.ones((self.conv_size,2))/self.conv_size*2);\n",
    "        # Smoothed angle changes (accelerations)\n",
    "        psdd = nmpsdm[0:(x-2)] - nmpsdm[1:(x-1)]\n",
    "        # results for gradient of changes\n",
    "        psdu = np.sum(abs(psd),axis=1)\n",
    "        # results of smoothed normalized acceleration\n",
    "        psddu = np.sum(abs(psdd),axis=1)\n",
    "        prob_dist = (abs(psddu) / np.sum(psddu))\n",
    "        return nmpsdm, psddu, prob_dist\n",
    "    \n",
    "    def strmML(self, t2):\n",
    "        n_t = t2.shape[1]\n",
    "        Ct = np.concatenate( (self.Btp, t2), axis = 1)\n",
    "        Ct = Ct[:, ~(Ct==0).all(0)]\n",
    "\n",
    "        Ut, St, Vt = svd_wrapper(Ct, self.l) #SVD_l(matrix)\n",
    "        Ut_l = Ut[:, :self.l]\n",
    "        St_l = St[:self.l] - St[self.l-1] # to be adaptive, added singular substraction\n",
    "        Vt_l = Vt[:self.l, -n_t:]\n",
    "        self.Btp= np.dot(Ut_l, np.diag(St_l))\n",
    "\n",
    "        return Ut_l, St_l, Vt_l\n",
    "    \n",
    "    def batch_sampling(self, trace):\n",
    "        (x,y,z) = trace.shape\n",
    "        self.sampling_rate = float(self.n_samples) / float(x)\n",
    "        t2 = trace.reshape((x, y*z),order='C')\n",
    "        c,s,v = svd_wrapper(t2, 2, method='random')\n",
    "        nmpsdm, psddu, prob_dist = self.traj_char(c,s) \n",
    "        total = 10**-10 + prob_dist[0]\n",
    "        sampling_entries = int(x * self.sampling_rate)\n",
    "        target = np.zeros((sampling_entries, y, z))\n",
    "        time_stamps = np.zeros(sampling_entries)\n",
    "        #output initialization: the first one should be added always\n",
    "        target[0,:,:] = trace[0,:,:]\n",
    "        time_stamps[0] = 0;\n",
    "        t_idx = 1;\n",
    "        for i in range(2,x):\n",
    "            total = total + prob_dist[i-2];\n",
    "            if(total > 1 / float(sampling_entries - 1)):\n",
    "                target[t_idx,:,:] = trace[i,:,:]\n",
    "                time_stamps[t_idx] = i\n",
    "                total = total - 1 / float(sampling_entries-1);\n",
    "                t_idx = t_idx + 1;\n",
    "        return target, time_stamps\n",
    "    \n",
    "    \n",
    "    def adaptive_sampling_update(self):\n",
    "        t2 = self.bq[0:self.bq_index,:,:].reshape((self.bq_index, self.n_atoms*z),order='C').T\n",
    "        Ut, s, VTt = self.strmML(t2)\n",
    "        if self.last_Vt is None: # for the first time\n",
    "            c = VTt.T\n",
    "            self.strm_smplr.add(10**10,[0, self.bq[0,:,:]])\n",
    "            nmpsdm, psddu, prob_dist = self.traj_char(c, s)\n",
    "            sidx = self.total_samples - self.bq_index\n",
    "            for i in range(2,self.bq_index):\n",
    "                self.strm_smplr.add(psddu[i-2], [sidx+i, self.bq[i,:,:]])\n",
    "        else:\n",
    "            c =  np.concatenate( (self.last_Vt, VTt.T), axis = 0)\n",
    "            nmpsdm, psddu, prob_dist = self.traj_char(c, s)\n",
    "            sidx = self.total_samples - self.bq_index\n",
    "            for i in range(0,self.bq_index):\n",
    "                self.strm_smplr.add(psddu[i], [sidx+i, self.bq[i,:,:]])\n",
    "                \n",
    "        self.last_Vt = VTt.T[-2:,:] # for last two to start compare against\n",
    "        \n",
    "        \n",
    "\n",
    "    def adaptive_sampling_step(self, dataframe_t):\n",
    "        self.total_samples = self.total_samples + 1\n",
    "        self.bq[self.bq_index] = dataframe_t\n",
    "        self.bq_index = self.bq_index+1\n",
    "        if self.bq_index == (self.batch_size):\n",
    "            self.adaptive_sampling_update()\n",
    "            self.bq_index = 0\n",
    "        "
   ]
  },
  {
   "cell_type": "code",
   "execution_count": 68,
   "metadata": {},
   "outputs": [],
   "source": [
    "mds = MDTrSampler(y, n_dim = 2, conv_size = 5, n_samples=100, batch_size=10, manifold_size=24)\n",
    "\n",
    "nmpsdm, psddu, prob_dist = mds.traj_char(c,s)  "
   ]
  },
  {
   "cell_type": "code",
   "execution_count": 69,
   "metadata": {},
   "outputs": [
    {
     "data": {
      "text/plain": [
       "array([[ 1.83290033,  1.68798506],\n",
       "       [ 0.732375  ,  0.36517201],\n",
       "       [-0.37030019, -0.97521062],\n",
       "       [-1.4747852 , -2.31119708],\n",
       "       [-2.58368202, -3.6150861 ],\n",
       "       [-2.7129247 , -3.51099968],\n",
       "       [-2.72205808, -3.49008276],\n",
       "       [-2.7253825 , -3.48179331],\n",
       "       [-2.72639885, -3.47920375],\n",
       "       [-2.72533325, -3.4819032 ],\n",
       "       [-2.72175857, -3.49079275],\n",
       "       [-2.71596029, -3.504749  ],\n",
       "       [-2.70806731, -3.52308322],\n",
       "       [-2.69838742, -3.54465789],\n",
       "       [-2.68782129, -3.56708864],\n",
       "       [-2.67753834, -3.58786828],\n",
       "       [-2.66875054, -3.60491982],\n",
       "       [-2.66212402, -3.61736627],\n",
       "       [-2.65824171, -3.62447415],\n",
       "       [-2.65723911, -3.62627762],\n",
       "       [-2.65874506, -3.62358874],\n",
       "       [-2.66170451, -3.61829229],\n",
       "       [-2.66536992, -3.61168038],\n",
       "       [-2.66920566, -3.60466214],\n",
       "       [-2.67297861, -3.59762043],\n",
       "       [-2.67660601, -3.59068734],\n",
       "       [-2.68034198, -3.58337716],\n",
       "       [-2.68443559, -3.5751793 ],\n",
       "       [-2.6887484 , -3.56635927],\n",
       "       [-2.69284373, -3.55783595],\n",
       "       [-2.69613781, -3.55089909],\n",
       "       [-2.69794802, -3.54706974],\n",
       "       [-2.69772636, -3.54753843],\n",
       "       [-2.69528304, -3.55266746],\n",
       "       [-2.69088671, -3.56177904],\n",
       "       [-2.68517153, -3.57341795],\n",
       "       [-2.67914593, -3.58544323],\n",
       "       [-2.67370742, -3.59607522],\n",
       "       [-2.66987099, -3.60345287],\n",
       "       [-2.66821784, -3.60659957],\n",
       "       [-2.66898735, -3.60513855],\n",
       "       [-2.67173759, -3.59989948],\n",
       "       [-2.67582027, -3.59206994],\n",
       "       [-2.68022528, -3.58353085],\n",
       "       [-2.68412528, -3.57587156],\n",
       "       [-2.68684976, -3.57044358],\n",
       "       [-2.68836604, -3.56738131],\n",
       "       [-2.68898936, -3.56610648],\n",
       "       [-2.68920122, -3.56566889],\n",
       "       [-2.68947267, -3.56510399],\n",
       "       [-2.69011369, -3.56376491],\n",
       "       [-2.69107466, -3.56175436],\n",
       "       [-2.69194016, -3.55994592],\n",
       "       [-2.69214831, -3.55951338],\n",
       "       [-2.69114765, -3.56157422],\n",
       "       [-2.68853527, -3.56688163],\n",
       "       [-2.68427386, -3.57539707],\n",
       "       [-2.67879083, -3.58614912],\n",
       "       [-2.67290604, -3.59746718],\n",
       "       [-2.66757021, -3.6075494 ],\n",
       "       [-2.66392826, -3.6143437 ],\n",
       "       [-2.66259868, -3.61680434],\n",
       "       [-2.66371053, -3.61475173],\n",
       "       [-2.66696471, -3.60871722],\n",
       "       [-2.67160902, -3.60002537],\n",
       "       [-2.67649892, -3.59074461],\n",
       "       [-2.68088586, -3.58227886],\n",
       "       [-2.68431953, -3.57553629],\n",
       "       [-2.68653376, -3.57111541],\n",
       "       [-2.68780211, -3.56854428],\n",
       "       [-2.6886704 , -3.56676195],\n",
       "       [-2.68958737, -3.56485811],\n",
       "       [-2.69081708, -3.56228033],\n",
       "       [-2.69249798, -3.5587328 ],\n",
       "       [-2.69430145, -3.55491127],\n",
       "       [-2.69565941, -3.55203236],\n",
       "       [-2.69591538, -3.55149181],\n",
       "       [-2.69459711, -3.55425174],\n",
       "       [-2.6915514 , -3.56055636],\n",
       "       [-2.68705927, -3.56972249],\n",
       "       [-2.68176405, -3.58034938],\n",
       "       [-2.67656262, -3.59060457],\n",
       "       [-2.6723848 , -3.5987079 ],\n",
       "       [-2.66981907, -3.60361884],\n",
       "       [-2.66917766, -3.60483667],\n",
       "       [-2.67036484, -3.60258798],\n",
       "       [-2.67291036, -3.59775313],\n",
       "       [-2.67608617, -3.591679  ],\n",
       "       [-2.67925002, -3.58557283],\n",
       "       [-2.68188198, -3.58043693],\n",
       "       [-2.68381512, -3.57661583],\n",
       "       [-2.68521547, -3.57380892],\n",
       "       [-2.686517  , -3.57116187],\n",
       "       [-2.68822179, -3.56764168],\n",
       "       [-2.69056832, -3.56273019],\n",
       "       [-2.69340647, -3.55672429],\n",
       "       [-2.69629191, -3.55057094],\n",
       "       [-2.6985969 , -3.54563056],\n",
       "       [-2.69959096, -3.54349582],\n",
       "       [-2.6989461 , -3.5448792 ],\n",
       "       [-2.6967829 , -3.54950145],\n",
       "       [-2.69359981, -3.5562607 ],\n",
       "       [-2.69013007, -3.5635745 ],\n",
       "       [-2.68722376, -3.56964627],\n",
       "       [-2.68546927, -3.57328117],\n",
       "       [-2.68510005, -3.57404136],\n",
       "       [-2.68595962, -3.57227753],\n",
       "       [-2.68753102, -3.56905668],\n",
       "       [-2.68925912, -3.56550829],\n",
       "       [-2.69061738, -3.56271045],\n",
       "       [-2.69127828, -3.56134399],\n",
       "       [-2.69122826, -3.56144781],\n",
       "       [-2.69073297, -3.56247865],\n",
       "       [-2.6900613 , -3.56387869],\n",
       "       [-2.68950324, -3.56504141],\n",
       "       [-2.68920231, -3.56566684],\n",
       "       [-2.68906442, -3.5659523 ],\n",
       "       [-2.6888525 , -3.5663889 ],\n",
       "       [-2.68822882, -3.56766497],\n",
       "       [-2.68695882, -3.57024298],\n",
       "       [-2.68494978, -3.57428432],\n",
       "       [-2.68230585, -3.57954888],\n",
       "       [-2.67924262, -3.58557908],\n",
       "       [-2.67618267, -3.59152937],\n",
       "       [-2.67343808, -3.59680135],\n",
       "       [-2.67130927, -3.6008472 ],\n",
       "       [-2.66994563, -3.60341736],\n",
       "       [-2.66950666, -3.60424104],\n",
       "       [-2.66995326, -3.60340308],\n",
       "       [-2.67121653, -3.60102509],\n",
       "       [-2.67307236, -3.59751115],\n",
       "       [-2.67532402, -3.59321571],\n",
       "       [-2.67766027, -3.58871753],\n",
       "       [-2.67981535, -3.58452858],\n",
       "       [-2.68165006, -3.58092648],\n",
       "       [-2.68315007, -3.57795352],\n",
       "       [-2.68443461, -3.57538165],\n",
       "       [-2.68569431, -3.5728331 ],\n",
       "       [-2.68713754, -3.56988398],\n",
       "       [-2.68881165, -3.56643123],\n",
       "       [-2.69068603, -3.56253434],\n",
       "       [-2.69248057, -3.55877991],\n",
       "       [-2.69376348, -3.55608818],\n",
       "       [-2.69420936, -3.55515207],\n",
       "       [-2.69360902, -3.55640936],\n",
       "       [-2.69193661, -3.55989636],\n",
       "       [-2.68944317, -3.56506154],\n",
       "       [-2.68664681, -3.5708044 ],\n",
       "       [-2.68392576, -3.57633606],\n",
       "       [-2.6816832 , -3.58084717],\n",
       "       [-2.68010436, -3.58399061],\n",
       "       [-2.67910266, -3.58596527],\n",
       "       [-2.67847459, -3.58719417],\n",
       "       [-2.67807008, -3.58798118],\n",
       "       [-2.67767343, -3.58875026],\n",
       "       [-2.67719117, -3.58968344],\n",
       "       [-2.67676829, -3.5905009 ],\n",
       "       [-2.67648516, -3.591048  ],\n",
       "       [-2.67647483, -3.59106799],\n",
       "       [-2.67682843, -3.5903828 ],\n",
       "       [-2.67760058, -3.58888274],\n",
       "       [-2.67868308, -3.58677111],\n",
       "       [-2.67998467, -3.5842204 ],\n",
       "       [-2.68127917, -3.58167138],\n",
       "       [-2.68242993, -3.57939476],\n",
       "       [-2.68329906, -3.57766765],\n",
       "       [-2.68383469, -3.57659922],\n",
       "       [-2.68408495, -3.57609816],\n",
       "       [-2.68424903, -3.57576848],\n",
       "       [-2.68452462, -3.57521232],\n",
       "       [-2.68512289, -3.57399878],\n",
       "       [-2.68619626, -3.57180857],\n",
       "       [-2.68772433, -3.56867086],\n",
       "       [-2.68955484, -3.56488645],\n",
       "       [-2.6913881 , -3.56107322],\n",
       "       [-2.69284352, -3.55803262],\n",
       "       [-2.69358137, -3.55648744],\n",
       "       [-2.69343439, -3.55679525],\n",
       "       [-2.69235279, -3.55905534],\n",
       "       [-2.69061452, -3.56267588],\n",
       "       [-2.68868531, -3.5666792 ],\n",
       "       [-2.68705812, -3.57004381],\n",
       "       [-2.68609139, -3.57203629],\n",
       "       [-2.68593578, -3.5723557 ],\n",
       "       [-2.68639779, -3.57141101],\n",
       "       [-2.68707063, -3.57003994],\n",
       "       [-2.68748112, -3.56920588],\n",
       "       [-2.68733019, -3.56951203],\n",
       "       [-2.68665272, -3.57088626],\n",
       "       [-2.68569294, -3.57283502],\n",
       "       [-2.6849243 , -3.57439921],\n",
       "       [-2.6847893 , -3.57467457],\n",
       "       [-2.68550749, -3.57320596],\n",
       "       [-2.68697856, -3.57018778],\n",
       "       [-2.68890151, -3.56622884],\n",
       "       [-2.69073254, -3.56244515],\n",
       "       [-2.69198537, -3.55984821],\n",
       "       [-2.69233151, -3.55912954],\n",
       "       [-2.69166797, -3.56050664],\n",
       "       [-2.69017725, -3.56359449],\n",
       "       [-2.68822683, -3.56761812],\n",
       "       [-2.68621295, -3.57174798],\n",
       "       [-2.68447811, -3.57527974],\n",
       "       [-2.68320314, -3.57785391],\n",
       "       [-2.68233318, -3.57959644],\n",
       "       [-2.6817006 , -3.58085443],\n",
       "       [-2.68114844, -3.58194638],\n",
       "       [-2.68060354, -3.58302067],\n",
       "       [-2.6801306 , -3.58395246],\n",
       "       [-2.67989823, -3.58441081],\n",
       "       [-2.68016103, -3.58389086],\n",
       "       [-2.68106475, -3.58209487],\n",
       "       [-2.68258468, -3.57905705],\n",
       "       [-2.68458957, -3.57502089],\n",
       "       [-2.68678489, -3.57056902],\n",
       "       [-2.68882648, -3.56639605],\n",
       "       [-2.69044326, -3.56306629],\n",
       "       [-2.69145832, -3.56096347],\n",
       "       [-2.69176053, -3.56033491],\n",
       "       [-2.69151016, -3.56085679],\n",
       "       [-2.69085284, -3.56222697],\n",
       "       [-2.6899188 , -3.56416937],\n",
       "       [-2.68881716, -3.56644873],\n",
       "       [-2.68759175, -3.56896413],\n",
       "       [-2.68606237, -3.57207232],\n",
       "       [-2.68409034, -3.57603279],\n",
       "       [-2.68167965, -3.58081562],\n",
       "       [-2.67899427, -3.58608552],\n",
       "       [-2.67640529, -3.59112559],\n",
       "       [-2.6744326 , -3.59494476],\n",
       "       [-2.67356609, -3.5966178 ],\n",
       "       [-2.67403749, -3.59570743],\n",
       "       [-2.67579597, -3.59230085],\n",
       "       [-2.67843688, -3.58715594],\n",
       "       [-2.6814357 , -3.58126627],\n",
       "       [-2.68423908, -3.57570532],\n",
       "       [-2.68649483, -3.57118063],\n",
       "       [-2.68807648, -3.5679713 ],\n",
       "       [-2.6891641 , -3.56573987],\n",
       "       [-2.69002345, -3.56395877],\n",
       "       [-2.69084612, -3.56224154],\n",
       "       [-2.69164486, -3.56056851],\n",
       "       [-2.69226673, -3.55926639],\n",
       "       [-2.69231875, -3.55915791],\n",
       "       [-2.69134947, -3.5611637 ],\n",
       "       [-2.68917316, -3.56562018],\n",
       "       [-2.68588191, -3.5722766 ],\n",
       "       [-2.68180831, -3.5804054 ],\n",
       "       [-2.67760907, -3.58867264],\n",
       "       [-2.67403563, -3.59561621],\n",
       "       [-2.67151481, -3.60045275],\n",
       "       [-2.67007703, -3.60317624],\n",
       "       [-2.66952072, -3.60421761],\n",
       "       [-2.66943996, -3.60436755]])"
      ]
     },
     "execution_count": 69,
     "metadata": {},
     "output_type": "execute_result"
    }
   ],
   "source": [
    "nmpsdm"
   ]
  },
  {
   "cell_type": "code",
   "execution_count": 70,
   "metadata": {},
   "outputs": [
    {
     "data": {
      "image/png": "[encoded data removed]",
      "text/plain": [
       "<Figure size 640x480 with 1 Axes>"
      ]
     },
     "metadata": {},
     "output_type": "display_data"
    }
   ],
   "source": [
    "fig_b, ax_b = plt.subplots()\n",
    "ax_b.scatter(range(0,nmpsdm.shape[0]),nmpsdm[:,0], marker=\".\", c=\"b\", s=0.5)\n",
    "ax_b.scatter(range(0,psddu.shape[0]),psddu[:],marker=\"x\", c=\"r\", s=0.2)\n",
    "plt.show()"
   ]
  },
  {
   "cell_type": "code",
   "execution_count": 76,
   "metadata": {},
   "outputs": [
    {
     "data": {
      "text/plain": [
       "9033"
      ]
     },
     "execution_count": 76,
     "metadata": {},
     "output_type": "execute_result"
    }
   ],
   "source": [
    "y"
   ]
  },
  {
   "cell_type": "code",
   "execution_count": 72,
   "metadata": {},
   "outputs": [],
   "source": [
    "mds2 = MDTrSampler(y, n_dim = 2, conv_size = 50, n_samples=64, batch_size=512, manifold_size=256)\n",
    "for i in range(x):\n",
    "    mds2.adaptive_sampling_step(coll[i,:,:])"
   ]
  },
  {
   "cell_type": "code",
   "execution_count": 75,
   "metadata": {},
   "outputs": [
    {
     "data": {
      "text/plain": [
       "[]"
      ]
     },
     "execution_count": 75,
     "metadata": {},
     "output_type": "execute_result"
    }
   ],
   "source": [
    "mds2.strm_smplr.reservoir"
   ]
  },
  {
   "cell_type": "code",
   "execution_count": 73,
   "metadata": {},
   "outputs": [
    {
     "ename": "IndexError",
     "evalue": "list index out of range",
     "output_type": "error",
     "traceback": [
      "\u001b[0;31m---------------------------------------------------------------------------\u001b[0m",
      "\u001b[0;31mIndexError\u001b[0m                                Traceback (most recent call last)",
      "Input \u001b[0;32mIn [73]\u001b[0m, in \u001b[0;36m<module>\u001b[0;34m\u001b[0m\n\u001b[0;32m----> 1\u001b[0m adaptive_samples \u001b[38;5;241m=\u001b[39m \u001b[38;5;28msorted\u001b[39m([ mds2\u001b[38;5;241m.\u001b[39mstrm_smplr\u001b[38;5;241m.\u001b[39mreservoir[i][\u001b[38;5;241m1\u001b[39m][\u001b[38;5;241m0\u001b[39m] \u001b[38;5;28;01mfor\u001b[39;00m i \u001b[38;5;129;01min\u001b[39;00m \u001b[38;5;28mrange\u001b[39m(\u001b[38;5;241m64\u001b[39m)])\n\u001b[1;32m      2\u001b[0m fig_d, ax_d \u001b[38;5;241m=\u001b[39m plt\u001b[38;5;241m.\u001b[39msubplots()\n\u001b[1;32m      3\u001b[0m ax_d\u001b[38;5;241m.\u001b[39mscatter(\u001b[38;5;28mrange\u001b[39m(\u001b[38;5;241m0\u001b[39m,nmpsdm\u001b[38;5;241m.\u001b[39mshape[\u001b[38;5;241m0\u001b[39m]),nmpsdm[:,\u001b[38;5;241m0\u001b[39m], marker\u001b[38;5;241m=\u001b[39m\u001b[38;5;124m\"\u001b[39m\u001b[38;5;124m.\u001b[39m\u001b[38;5;124m\"\u001b[39m, c\u001b[38;5;241m=\u001b[39m\u001b[38;5;124m\"\u001b[39m\u001b[38;5;124mb\u001b[39m\u001b[38;5;124m\"\u001b[39m, s\u001b[38;5;241m=\u001b[39m\u001b[38;5;241m0.5\u001b[39m)\n",
      "Input \u001b[0;32mIn [73]\u001b[0m, in \u001b[0;36m<listcomp>\u001b[0;34m(.0)\u001b[0m\n\u001b[0;32m----> 1\u001b[0m adaptive_samples \u001b[38;5;241m=\u001b[39m \u001b[38;5;28msorted\u001b[39m([ \u001b[43mmds2\u001b[49m\u001b[38;5;241;43m.\u001b[39;49m\u001b[43mstrm_smplr\u001b[49m\u001b[38;5;241;43m.\u001b[39;49m\u001b[43mreservoir\u001b[49m\u001b[43m[\u001b[49m\u001b[43mi\u001b[49m\u001b[43m]\u001b[49m[\u001b[38;5;241m1\u001b[39m][\u001b[38;5;241m0\u001b[39m] \u001b[38;5;28;01mfor\u001b[39;00m i \u001b[38;5;129;01min\u001b[39;00m \u001b[38;5;28mrange\u001b[39m(\u001b[38;5;241m64\u001b[39m)])\n\u001b[1;32m      2\u001b[0m fig_d, ax_d \u001b[38;5;241m=\u001b[39m plt\u001b[38;5;241m.\u001b[39msubplots()\n\u001b[1;32m      3\u001b[0m ax_d\u001b[38;5;241m.\u001b[39mscatter(\u001b[38;5;28mrange\u001b[39m(\u001b[38;5;241m0\u001b[39m,nmpsdm\u001b[38;5;241m.\u001b[39mshape[\u001b[38;5;241m0\u001b[39m]),nmpsdm[:,\u001b[38;5;241m0\u001b[39m], marker\u001b[38;5;241m=\u001b[39m\u001b[38;5;124m\"\u001b[39m\u001b[38;5;124m.\u001b[39m\u001b[38;5;124m\"\u001b[39m, c\u001b[38;5;241m=\u001b[39m\u001b[38;5;124m\"\u001b[39m\u001b[38;5;124mb\u001b[39m\u001b[38;5;124m\"\u001b[39m, s\u001b[38;5;241m=\u001b[39m\u001b[38;5;241m0.5\u001b[39m)\n",
      "\u001b[0;31mIndexError\u001b[0m: list index out of range"
     ]
    }
   ],
   "source": [
    "adaptive_samples = sorted([ mds2.strm_smplr.reservoir[i][1][0] for i in range(64)])\n",
    "fig_d, ax_d = plt.subplots()\n",
    "ax_d.scatter(range(0,nmpsdm.shape[0]),nmpsdm[:,0], marker=\".\", c=\"b\", s=0.5)\n",
    "ax_d.scatter(adaptive_samples, np.ones(len(adaptive_samples)),marker=\"x\",c=\"r\", s=10.0)\n",
    "plt.show()"
   ]
  },
  {
   "cell_type": "code",
   "execution_count": 19,
   "metadata": {
    "id": "jpJ_batXCtJ3"
   },
   "outputs": [],
   "source": [
    "def gk(x,y):\n",
    "  return np.exp(-((x-y)**2/2.0))\n",
    "\n",
    "\n",
    "def mmd(x_n_1, x_n, y_n_1, y_n, gamma=0.5):\n",
    "\n",
    "    xx = gk(x_n_1, x_n)\n",
    "    yy = gk(y_n_1, y_n)\n",
    "    xy = gk(x_n_1, y_n)\n",
    "    yx = gk(x_n, y_n_1)\n",
    "  \n",
    " \n",
    "    \n",
    "\n",
    "\n",
    "    return xx + yy - xy - yx    "
   ]
  },
  {
   "cell_type": "code",
   "execution_count": 20,
   "metadata": {
    "colab": {
     "base_uri": "https://localhost:8080/",
     "height": 286
    },
    "id": "X1I5RERrkrGl",
    "outputId": "9f643a84-2ff0-4f85-8048-bed4bce6dc1c"
   },
   "outputs": [
    {
     "data": {
      "image/png": "[encoded data removed]",
      "text/plain": [
       "<Figure size 640x480 with 1 Axes>"
      ]
     },
     "metadata": {},
     "output_type": "display_data"
    }
   ],
   "source": [
    "plt.plot(np.arange(0,2000),sample_x)\n",
    "plt.plot(np.arange(0,2000),sample_y)\n",
    "plt.plot(np.arange(0,2000),sample_z)\n",
    "plt.plot(np.arange(0,2000),trace_1[1])\n",
    "plt.show()"
   ]
  },
  {
   "cell_type": "code",
   "execution_count": 21,
   "metadata": {
    "colab": {
     "base_uri": "https://localhost:8080/",
     "height": 286
    },
    "id": "y3FzrzgCW1jk",
    "outputId": "a0a068b6-a3d9-4aa8-a686-65ef1ee4f4cc"
   },
   "outputs": [
    {
     "data": {
      "image/png": "[encoded data removed]",
      "text/plain": [
       "<Figure size 640x480 with 1 Axes>"
      ]
     },
     "metadata": {},
     "output_type": "display_data"
    }
   ],
   "source": [
    "plt.plot(np.arange(0,2000),sample_x_0, label='Sample x')\n",
    "plt.plot(np.arange(0,2000),sample_y_0, label='Sample y')\n",
    "plt.plot(np.arange(0,2000),sample_z_0, label='Sample Z')\n",
    "plt.legend()\n",
    "plt.show()"
   ]
  },
  {
   "cell_type": "code",
   "execution_count": 16,
   "metadata": {
    "id": "jA__MKLmbg7O"
   },
   "outputs": [],
   "source": [
    "T_kcusum = 0\n",
    "\n",
    "def KCUSUM(x_1, x_2, yz_1, yz_2, h,delta=0):\n",
    "  global T_kcusum  \n",
    "  Z_n = 0\n",
    "  h >= 0\n",
    "  delta = 0\n",
    "  n = 400\n",
    "\n",
    "  for i in range(2,n):\n",
    "\n",
    "    #sample y\n",
    "\n",
    "    if i%2 == 0:\n",
    "      av_n = mmd(x_1,x_2,yz_1,yz_2).mean()\n",
    "      v_n = av_n/3\n",
    "    else:\n",
    "      v_n = 0\n",
    "      \n",
    "    Z_n += v_n\n",
    "\n",
    "    if Z_n < 0:\n",
    "      Z_n = 0\n",
    "\n",
    "    if Z_n > h:\n",
    "      T_kcusum = i\n",
    "      break\n",
    "  return T_kcusum"
   ]
  },
  {
   "cell_type": "code",
   "execution_count": 22,
   "metadata": {
    "colab": {
     "base_uri": "https://localhost:8080/"
    },
    "id": "lGAb_RMzdmm8",
    "outputId": "a3f1e1b2-3497-4ad6-8192-7a675cb54ff5"
   },
   "outputs": [
    {
     "data": {
      "text/plain": [
       "264"
      ]
     },
     "execution_count": 22,
     "metadata": {},
     "output_type": "execute_result"
    }
   ],
   "source": [
    "KCUSUM(trace_1[0],trace_2[0],trace_1[1],trace_2[1],5)"
   ]
  },
  {
   "cell_type": "code",
   "execution_count": 25,
   "metadata": {},
   "outputs": [
    {
     "name": "stderr",
     "output_type": "stream",
     "text": [
      "/usr/local/lib/python3.8/dist-packages/sklearn/utils/extmath.py:369: FutureWarning: If 'random_state' is not supplied, the current default is to use 0 as a fixed seed. This will change to  None in version 1.2 leading to non-deterministic results that better reflect nature of the randomized_svd solver. If you want to silence this warning, set 'random_state' to an integer seed or to None explicitly depending if you want your code to be deterministic or not.\n",
      "  warnings.warn(\n"
     ]
    }
   ],
   "source": [
    "Ut, St, VTt = svd_wrapper(trace_1, 2, method='random')"
   ]
  },
  {
   "cell_type": "code",
   "execution_count": 26,
   "metadata": {},
   "outputs": [
    {
     "data": {
      "text/plain": [
       "array([[ 0.00198438,  0.99999803],\n",
       "       [ 0.99999803, -0.00198438]])"
      ]
     },
     "execution_count": 26,
     "metadata": {},
     "output_type": "execute_result"
    }
   ],
   "source": [
    "Ut"
   ]
  },
  {
   "cell_type": "code",
   "execution_count": 27,
   "metadata": {},
   "outputs": [
    {
     "data": {
      "text/plain": [
       "array([181.31948074,  45.1331753 ])"
      ]
     },
     "execution_count": 27,
     "metadata": {},
     "output_type": "execute_result"
    }
   ],
   "source": [
    "St"
   ]
  },
  {
   "cell_type": "code",
   "execution_count": 28,
   "metadata": {},
   "outputs": [
    {
     "data": {
      "text/plain": [
       "array([[-0.00569796,  0.02200471, -0.00647459, ...,  0.11287737,\n",
       "        -0.01937614, -0.00382656],\n",
       "       [ 0.02809129, -0.03086062,  0.01546692, ..., -0.01693772,\n",
       "         0.02035684, -0.04123384]])"
      ]
     },
     "execution_count": 28,
     "metadata": {},
     "output_type": "execute_result"
    }
   ],
   "source": [
    "VTt"
   ]
  },
  {
   "cell_type": "code",
   "execution_count": 29,
   "metadata": {},
   "outputs": [],
   "source": [
    "c = Ut\n",
    "s = St"
   ]
  },
  {
   "cell_type": "code",
   "execution_count": 30,
   "metadata": {},
   "outputs": [
    {
     "data": {
      "text/plain": [
       "(2, 2)"
      ]
     },
     "execution_count": 30,
     "metadata": {},
     "output_type": "execute_result"
    }
   ],
   "source": [
    "n_dim=2\n",
    "step=1000\n",
    "c.shape"
   ]
  },
  {
   "cell_type": "code",
   "execution_count": 11,
   "metadata": {},
   "outputs": [
    {
     "data": {
      "text/plain": [
       "array([ -1.26028609, -24.73117756,   8.31469303])"
      ]
     },
     "execution_count": 11,
     "metadata": {},
     "output_type": "execute_result"
    }
   ],
   "source": [
    "trace = [sample_x,sample_y,sample_z]\n",
    "trace = np.array(trace)\n",
    "trace.shape\n",
    "trace[:,156]"
   ]
  },
  {
   "cell_type": "code",
   "execution_count": 15,
   "metadata": {},
   "outputs": [
    {
     "data": {
      "text/plain": [
       "(3, 2000)"
      ]
     },
     "execution_count": 15,
     "metadata": {},
     "output_type": "execute_result"
    }
   ],
   "source": [
    "sample_a = [sample_x_0,sample_y_0,sample_z_0]\n",
    "sample_b = [sample_x_1,sample_y_1,sample_z_1]\n",
    "sample_a = np.array(sample_a)\n",
    "sample_b = np.array(sample_b)\n",
    "sample_b.shape"
   ]
  },
  {
   "cell_type": "code",
   "execution_count": 18,
   "metadata": {},
   "outputs": [
    {
     "name": "stdout",
     "output_type": "stream",
     "text": [
      "[[ 0.00798422  0.0113843  -0.0008589 ]\n",
      " [ 0.00767386 -0.04268317 -0.0078294 ]\n",
      " [-0.01395902 -0.00581703  0.04761105]]\n"
     ]
    }
   ],
   "source": [
    "a_sparse, b_sparse = sparse.csr_matrix(sample_a), sparse.csr_matrix(sample_b)\n",
    "sim_sparse = cosine_similarity(a_sparse, b_sparse, dense_output=True)\n",
    "print(sim_sparse)"
   ]
  },
  {
   "cell_type": "code",
   "execution_count": 19,
   "metadata": {},
   "outputs": [
    {
     "name": "stdout",
     "output_type": "stream",
     "text": [
      "[[ 0.00798422  0.0113843  -0.0008589 ]\n",
      " [ 0.00767386 -0.04268317 -0.0078294 ]\n",
      " [-0.01395902 -0.00581703  0.04761105]]\n"
     ]
    }
   ],
   "source": [
    "sim_array = cosine_similarity(sample_a,sample_b,dense_output=True)\n",
    "print(sim_array)"
   ]
  },
  {
   "cell_type": "code",
   "execution_count": 21,
   "metadata": {
    "id": "pU37I6J4e3bh"
   },
   "outputs": [],
   "source": [
    "def cp_vs_h(sample_x_0,sample_y_0,sample_z_0,h_start,h_end,step,delta):\n",
    "    cps = []\n",
    "    hs = []\n",
    "    while h_start<h_end:\n",
    "        cp = KCUSUM(sample_x_0,sample_x_1,sample_y_0,sample_y_1,sample_z_0,sample_z_1,h=0,delta=0)\n",
    "        hs.append(h_start)\n",
    "        cps.append(cp)\n",
    "        h_start += step\n",
    "        plt.plot(hs,cps)\n",
    "        plt.xlabel('Value of h')\n",
    "        plt.ylabel('Change points')"
   ]
  },
  {
   "cell_type": "code",
   "execution_count": 28,
   "metadata": {},
   "outputs": [
    {
     "data": {
      "image/png": "[encoded data removed]",
      "text/plain": [
       "<Figure size 640x480 with 1 Axes>"
      ]
     },
     "metadata": {},
     "output_type": "display_data"
    }
   ],
   "source": [
    "cp_vs_h(sample_x,sample_y,sample_z_0,10,25,0.5,0.05)\n",
    "plt.show()"
   ]
  },
  {
   "cell_type": "code",
   "execution_count": null,
   "metadata": {},
   "outputs": [],
   "source": []
  }
 ],
 "metadata": {
  "colab": {
   "authorship_tag": "ABX9TyNAScX54qw1pCkXA6S/Ujms",
   "include_colab_link": true,
   "name": "KCUSUM.ipynb",
   "provenance": []
  },
  "kernelspec": {
   "display_name": "Python 3",
   "language": "python",
   "name": "python3"
  },
  "language_info": {
   "codemirror_mode": {
    "name": "ipython",
    "version": 3
   },
   "file_extension": ".py",
   "mimetype": "text/x-python",
   "name": "python",
   "nbconvert_exporter": "python",
   "pygments_lexer": "ipython3",
   "version": "3.8.10"
  }
 },
 "nbformat": 4,
 "nbformat_minor": 1
}
