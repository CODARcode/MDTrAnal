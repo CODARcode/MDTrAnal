{
 "cells": [
  {
   "cell_type": "code",
   "execution_count": 2,
   "metadata": {
    "collapsed": true
   },
   "outputs": [],
   "source": [
    "import numpy as np\n",
    "import math\n",
    "\n",
    "from sklearn.decomposition import TruncatedSVD\n",
    "from sklearn.utils.extmath import svd_flip, randomized_svd\n",
    "\n",
    "from scipy.sparse.linalg import svds\n",
    "from scipy.misc import imfilter\n",
    "import scipy.ndimage as ndi\n",
    "\n",
    "import scipy.io\n",
    "\n",
    "from heapq import heappush, heappop\n",
    "\n",
    "from random import uniform\n",
    "\n",
    "import matplotlib\n",
    "import matplotlib.pyplot as plt\n",
    "\n",
    "\n",
    "from pprint import pprint"
   ]
  },
  {
   "cell_type": "code",
   "execution_count": 3,
   "metadata": {
    "collapsed": true
   },
   "outputs": [],
   "source": [
    "def svd_wrapper(Y, k, method='svds'):\n",
    "    if method is 'svds':\n",
    "        Ut, St, Vt = svds(Y, k)\n",
    "        idx = np.argsort(St)[::-1]        \n",
    "        St = St[idx] # have issue with sorting zero singular values\n",
    "        Ut, Vt = svd_flip(Ut[:, idx], Vt[idx])\n",
    "    elif method is 'random':\n",
    "        Ut, St, Vt = randomized_svd(Y, k)\n",
    "    else:\n",
    "        Ut, St, Vt = np.linalg.svd(Y, full_matrices=False)\n",
    "        # now truncate it to k\n",
    "        Ut = Ut[:, :k]\n",
    "        St = np.diag(St[:k])\n",
    "        Vt = Vt[:k, :]\n",
    "        \n",
    "    return Ut, St, Vt"
   ]
  },
  {
   "cell_type": "code",
   "execution_count": 4,
   "metadata": {
    "collapsed": true
   },
   "outputs": [],
   "source": [
    "class WeightedReservoirSampler:\n",
    "    def __init__(self, reservoir_size):\n",
    "        self.m = reservoir_size\n",
    "\n",
    "        self.reservoir = []\n",
    "        \n",
    "    def add(self, weight, data):\n",
    "        rw = uniform(0.0,1.0)**(1.0/weight)\n",
    "        if(len(self.reservoir)< self.m):\n",
    "            heappush(self.reservoir, (rw,data))\n",
    "        elif rw > self.reservoir[0][0]:\n",
    "            heappop(self.reservoir)\n",
    "            heappush(self.reservoir, (rw,data))\n",
    "        #print(len(self.reservoir))"
   ]
  },
  {
   "cell_type": "code",
   "execution_count": 5,
   "metadata": {
    "collapsed": true
   },
   "outputs": [],
   "source": [
    "class MDTrSampler:\n",
    "    def __init__(self, n_atoms, n_dim = 2, conv_size = 50, n_samples=1000, batch_size=100, manifold_size=64):\n",
    "        self.n_dim = n_dim\n",
    "        self.conv_size = conv_size\n",
    "        self.n_atoms = n_atoms\n",
    "        self.batch_size = batch_size\n",
    "        self.l = manifold_size\n",
    "        self.n_samples = n_samples\n",
    "        self.bq = np.zeros((batch_size,n_atoms,3)) # batch queue\n",
    "        self.total_samples = 0\n",
    "        self.bq_index = 0\n",
    "        self.Btp = np.zeros((n_atoms*3,self.l))\n",
    "        self.strm_smplr = WeightedReservoirSampler(n_samples)\n",
    "        self.last_Vt = None\n",
    "    \n",
    "    def traj_char(self, c, s):\n",
    "        x = c.shape[0]\n",
    "        # scaled data <-- not so much meaningful as we're doing l2 normalization later\n",
    "        ps = np.mat(c[:,:self.n_dim]) * np.mat(np.diag(s[:self.n_dim]))\n",
    "        # gradient or changes of each data point\n",
    "        psd = ps[0:(x-1),:self.n_dim] - ps[1:x, :self.n_dim];\n",
    "        \n",
    "        # convoluted gradient --> smoothed gradient\n",
    "        psdm = ndi.convolve(psd, np.ones((self.conv_size,2))/self.conv_size*2);\n",
    "        # L2 normalized smoothed gradients --> now we focus on the angle of gradient only as atoms may move different speed \n",
    "        npsdm = np.divide(psdm, np.mat(np.sum(np.abs(psdm)**2,axis=-1)**(1./2)).T  * np.mat(np.ones((1,n_dim))))\n",
    "        # Angle smoothing with the assumption that the overall angle can not be radically changed\n",
    "        nmpsdm = ndi.convolve(npsdm, np.ones((self.conv_size,2))/self.conv_size*2);\n",
    "        # Smoothed angle changes (accelerations)\n",
    "        psdd = nmpsdm[0:(x-2)] - nmpsdm[1:(x-1)]\n",
    "        # results for gradient of changes\n",
    "        psdu = np.sum(abs(psd),axis=1)\n",
    "        # results of smoothed normalized acceleration\n",
    "        psddu = np.sum(abs(psdd),axis=1)\n",
    "        prob_dist = (abs(psddu) / np.sum(psddu))\n",
    "        return nmpsdm, psddu, prob_dist\n",
    "    \n",
    "    def strmML(self, t2):\n",
    "        n_t = t2.shape[1]\n",
    "        Ct = np.concatenate( (self.Btp, t2), axis = 1)\n",
    "        Ct = Ct[:, ~(Ct==0).all(0)]\n",
    "\n",
    "        Ut, St, Vt = svd_wrapper(Ct, self.l) #SVD_l(matrix)\n",
    "        Ut_l = Ut[:, :self.l]\n",
    "        St_l = St[:self.l] - St[self.l-1] # to be adaptive, added singular substraction\n",
    "        Vt_l = Vt[:self.l, -n_t:]\n",
    "        self.Btp= np.dot(Ut_l, np.diag(St_l))\n",
    "\n",
    "        return Ut_l, St_l, Vt_l\n",
    "    \n",
    "    def batch_sampling(self, trace):\n",
    "        (x,y,z) = trace.shape\n",
    "        self.sampling_rate = float(self.n_samples) / float(x)\n",
    "        t2 = trace.reshape((x, y*z),order='C')\n",
    "        c,s,v = svd_wrapper(t2, 2, method='random')\n",
    "        nmpsdm, psddu, prob_dist = self.traj_char(c,s) \n",
    "        total = 10**-10 + prob_dist[0]\n",
    "        sampling_entries = int(x * self.sampling_rate)\n",
    "        target = np.zeros((sampling_entries, y, z))\n",
    "        time_stamps = np.zeros(sampling_entries)\n",
    "        #output initialization: the first one should be added always\n",
    "        target[0,:,:] = trace[0,:,:]\n",
    "        time_stamps[0] = 0;\n",
    "        t_idx = 1;\n",
    "        for i in range(2,x):\n",
    "            total = total + prob_dist[i-2];\n",
    "            if(total > 1 / float(sampling_entries - 1)):\n",
    "                target[t_idx,:,:] = trace[i,:,:]\n",
    "                time_stamps[t_idx] = i\n",
    "                total = total - 1 / float(sampling_entries-1);\n",
    "                t_idx = t_idx + 1;\n",
    "        return target, time_stamps\n",
    "    \n",
    "    \n",
    "    def adaptive_sampling_update(self):\n",
    "        t2 = self.bq[0:self.bq_index,:,:].reshape((self.bq_index, self.n_atoms*z),order='C').T\n",
    "        Ut, s, VTt = self.strmML(t2)\n",
    "        if self.last_Vt is None: # for the first time\n",
    "            c = VTt.T\n",
    "            self.strm_smplr.add(10**10,[0, self.bq[0,:,:]])\n",
    "            nmpsdm, psddu, prob_dist = self.traj_char(c, s)\n",
    "            sidx = self.total_samples - self.bq_index\n",
    "            for i in range(2,self.bq_index):\n",
    "                self.strm_smplr.add(psddu[i-2], [sidx+i, self.bq[i,:,:]])\n",
    "        else:\n",
    "            c =  np.concatenate( (self.last_Vt, VTt.T), axis = 0)\n",
    "            nmpsdm, psddu, prob_dist = self.traj_char(c, s)\n",
    "            sidx = self.total_samples - self.bq_index\n",
    "            for i in range(0,self.bq_index):\n",
    "                self.strm_smplr.add(psddu[i], [sidx+i, self.bq[i,:,:]])\n",
    "                \n",
    "        self.last_Vt = VTt.T[-2:,:] # for last two to start compare against\n",
    "        \n",
    "        \n",
    "\n",
    "    def adaptive_sampling_step(self, dataframe_t):\n",
    "        self.total_samples = self.total_samples + 1\n",
    "        self.bq[self.bq_index] = dataframe_t\n",
    "        self.bq_index = self.bq_index+1\n",
    "        if self.bq_index == (self.batch_size):\n",
    "            self.adaptive_sampling_update()\n",
    "            self.bq_index = 0\n",
    "        \n"
   ]
  },
  {
   "cell_type": "code",
   "execution_count": 6,
   "metadata": {
    "collapsed": true
   },
   "outputs": [],
   "source": [
    "mat= scipy.io.loadmat('../data/collision_0-5k.mat')"
   ]
  },
  {
   "cell_type": "code",
   "execution_count": 7,
   "metadata": {
    "collapsed": true
   },
   "outputs": [],
   "source": [
    "trace = mat['trace']\n",
    "(x,y,z) = trace.shape\n",
    "t2 = trace.reshape((x, y*z),order='C')"
   ]
  },
  {
   "cell_type": "code",
   "execution_count": 8,
   "metadata": {
    "collapsed": true
   },
   "outputs": [],
   "source": [
    "Ut, St, VTt = svd_wrapper(t2, 2, method='random')"
   ]
  },
  {
   "cell_type": "code",
   "execution_count": 9,
   "metadata": {
    "collapsed": true
   },
   "outputs": [],
   "source": [
    "c = Ut\n",
    "s = St"
   ]
  },
  {
   "cell_type": "code",
   "execution_count": 10,
   "metadata": {},
   "outputs": [
    {
     "data": {
      "text/plain": [
       "(5000, 2)"
      ]
     },
     "execution_count": 10,
     "metadata": {},
     "output_type": "execute_result"
    }
   ],
   "source": [
    "n_dim=2\n",
    "step=1000\n",
    "c.shape"
   ]
  },
  {
   "cell_type": "code",
   "execution_count": 13,
   "metadata": {},
   "outputs": [
    {
     "data": {
      "image/png": "[encoded data removed]",
      "text/plain": [
       "<matplotlib.figure.Figure at 0x7fbb62856ba8>"
      ]
     },
     "metadata": {},
     "output_type": "display_data"
    }
   ],
   "source": [
    "fig, ax = plt.subplots()\n",
    "ax.scatter(c[:,0],c[:,1], marker=\".\", c='b', s=0.5)\n",
    "ax.set_xlim(min(c[:,0]), max(c[:,0]))\n",
    "ax.set_ylim(min(c[:,1]), max(c[:,1]))\n",
    "for i in range(0,x,step):\n",
    "    ax.annotate(str(i),(c[i,0],c[i,1]))\n",
    "plt.show()"
   ]
  },
  {
   "cell_type": "code",
   "execution_count": 14,
   "metadata": {
    "collapsed": true
   },
   "outputs": [],
   "source": [
    "mds = MDTrSampler(y, n_dim = 2, conv_size = 50, n_samples=100, batch_size=100, manifold_size=64)\n",
    "\n",
    "nmpsdm, psddu, prob_dist = mds.traj_char(c,s)     "
   ]
  },
  {
   "cell_type": "code",
   "execution_count": 15,
   "metadata": {},
   "outputs": [
    {
     "data": {
      "image/png": "[encoded data removed]",
      "text/plain": [
       "<matplotlib.figure.Figure at 0x7fbb627a2550>"
      ]
     },
     "metadata": {},
     "output_type": "display_data"
    }
   ],
   "source": [
    "fig_b, ax_b = plt.subplots()\n",
    "ax_b.scatter(range(0,nmpsdm.shape[0]),nmpsdm[:,0], marker=\".\", c=\"b\", s=0.5)\n",
    "ax_b.scatter(range(0,psddu.shape[0]),psddu[:],marker=\"x\", c=\"r\", s=0.2)\n",
    "plt.show()"
   ]
  },
  {
   "cell_type": "code",
   "execution_count": 16,
   "metadata": {
    "collapsed": true
   },
   "outputs": [],
   "source": [
    "sampling_rate = 0.005\n",
    "target, time_stamps = mds.batch_sampling(trace)"
   ]
  },
  {
   "cell_type": "code",
   "execution_count": 17,
   "metadata": {},
   "outputs": [
    {
     "data": {
      "image/png": "[encoded data removed]",
      "text/plain": [
       "<matplotlib.figure.Figure at 0x7fbb627287b8>"
      ]
     },
     "metadata": {},
     "output_type": "display_data"
    }
   ],
   "source": [
    "fig_c, ax_c = plt.subplots()\n",
    "ax_c.scatter(range(0,nmpsdm.shape[0]),nmpsdm[:,0], marker=\".\", c=\"b\", s=0.5)\n",
    "ax_c.scatter(time_stamps, np.ones(time_stamps.shape),marker=\"x\",c=\"r\", s=10.0)\n",
    "plt.show()"
   ]
  },
  {
   "cell_type": "code",
   "execution_count": 18,
   "metadata": {
    "collapsed": true
   },
   "outputs": [],
   "source": [
    "mds2 = MDTrSampler(y, n_dim = 2, conv_size = 50, n_samples=64, batch_size=512, manifold_size=256)\n",
    "for i in range(x):\n",
    "    mds2.adaptive_sampling_step(trace[i,:,:])\n"
   ]
  },
  {
   "cell_type": "code",
   "execution_count": 20,
   "metadata": {},
   "outputs": [
    {
     "data": {
      "image/png": "[encoded data removed]",
      "text/plain": [
       "<matplotlib.figure.Figure at 0x7fbb626995f8>"
      ]
     },
     "metadata": {},
     "output_type": "display_data"
    }
   ],
   "source": [
    "adaptive_samples = sorted([ mds2.strm_smplr.reservoir[i][1][0] for i in range(64)])\n",
    "fig_d, ax_d = plt.subplots()\n",
    "ax_d.scatter(range(0,nmpsdm.shape[0]),nmpsdm[:,0], marker=\".\", c=\"b\", s=0.5)\n",
    "ax_d.scatter(adaptive_samples, np.ones(len(adaptive_samples)),marker=\"x\",c=\"r\", s=10.0)\n",
    "plt.show()"
   ]
  },
  {
   "cell_type": "code",
   "execution_count": 21,
   "metadata": {},
   "outputs": [
    {
     "name": "stdout",
     "output_type": "stream",
     "text": [
      "[0,\n",
      " 514,\n",
      " 516,\n",
      " 517,\n",
      " 522,\n",
      " 533,\n",
      " 535,\n",
      " 538,\n",
      " 539,\n",
      " 540,\n",
      " 558,\n",
      " 1025,\n",
      " 1038,\n",
      " 1045,\n",
      " 1046,\n",
      " 1048,\n",
      " 1056,\n",
      " 1059,\n",
      " 1068,\n",
      " 1537,\n",
      " 1544,\n",
      " 1570,\n",
      " 1572,\n",
      " 1576,\n",
      " 1871,\n",
      " 2060,\n",
      " 2067,\n",
      " 2077,\n",
      " 2084,\n",
      " 2090,\n",
      " 2171,\n",
      " 2192,\n",
      " 2217,\n",
      " 2224,\n",
      " 2250,\n",
      " 2560,\n",
      " 2572,\n",
      " 2577,\n",
      " 2591,\n",
      " 2596,\n",
      " 2598,\n",
      " 3064,\n",
      " 3092,\n",
      " 3622,\n",
      " 3880,\n",
      " 4129,\n",
      " 4145,\n",
      " 4435,\n",
      " 4442,\n",
      " 4486,\n",
      " 4493,\n",
      " 4498,\n",
      " 4501,\n",
      " 4505,\n",
      " 4512,\n",
      " 4513,\n",
      " 4518,\n",
      " 4524,\n",
      " 4528,\n",
      " 4530,\n",
      " 4533,\n",
      " 4535,\n",
      " 4541,\n",
      " 4555]\n"
     ]
    }
   ],
   "source": [
    "pprint(adaptive_samples)"
   ]
  },
  {
   "cell_type": "code",
   "execution_count": null,
   "metadata": {
    "collapsed": true
   },
   "outputs": [],
   "source": []
  }
 ],
 "metadata": {
  "kernelspec": {
   "display_name": "Python 3",
   "language": "python",
   "name": "python3"
  },
  "language_info": {
   "codemirror_mode": {
    "name": "ipython",
    "version": 3
   },
   "file_extension": ".py",
   "mimetype": "text/x-python",
   "name": "python",
   "nbconvert_exporter": "python",
   "pygments_lexer": "ipython3",
   "version": "3.6.3"
  }
 },
 "nbformat": 4,
 "nbformat_minor": 2
}
